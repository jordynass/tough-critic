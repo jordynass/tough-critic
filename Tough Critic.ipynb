{
 "cells": [
  {
   "cell_type": "code",
   "execution_count": 85,
   "id": "6f8ee1ac-e05f-42f8-b724-6aa2cb415edf",
   "metadata": {
    "editable": true,
    "slideshow": {
     "slide_type": ""
    },
    "tags": []
   },
   "outputs": [
    {
     "name": "stdout",
     "output_type": "stream",
     "text": [
      "Requirement already satisfied: langchain in c:\\users\\jordy\\anaconda3\\lib\\site-packages (0.3.9)\n",
      "Requirement already satisfied: PyYAML>=5.3 in c:\\users\\jordy\\anaconda3\\lib\\site-packages (from langchain) (6.0.1)\n",
      "Requirement already satisfied: SQLAlchemy<3,>=1.4 in c:\\users\\jordy\\anaconda3\\lib\\site-packages (from langchain) (2.0.30)\n",
      "Requirement already satisfied: aiohttp<4.0.0,>=3.8.3 in c:\\users\\jordy\\anaconda3\\lib\\site-packages (from langchain) (3.9.5)\n",
      "Requirement already satisfied: langchain-core<0.4.0,>=0.3.21 in c:\\users\\jordy\\anaconda3\\lib\\site-packages (from langchain) (0.3.21)\n",
      "Requirement already satisfied: langchain-text-splitters<0.4.0,>=0.3.0 in c:\\users\\jordy\\anaconda3\\lib\\site-packages (from langchain) (0.3.2)\n",
      "Requirement already satisfied: langsmith<0.2.0,>=0.1.17 in c:\\users\\jordy\\anaconda3\\lib\\site-packages (from langchain) (0.1.143)\n",
      "Requirement already satisfied: numpy<3,>=1.26.2 in c:\\users\\jordy\\anaconda3\\lib\\site-packages (from langchain) (1.26.4)\n",
      "Requirement already satisfied: pydantic<3.0.0,>=2.7.4 in c:\\users\\jordy\\anaconda3\\lib\\site-packages (from langchain) (2.9.2)\n",
      "Requirement already satisfied: requests<3,>=2 in c:\\users\\jordy\\anaconda3\\lib\\site-packages (from langchain) (2.32.2)\n",
      "Requirement already satisfied: tenacity!=8.4.0,<10,>=8.1.0 in c:\\users\\jordy\\anaconda3\\lib\\site-packages (from langchain) (9.0.0)\n",
      "Requirement already satisfied: aiosignal>=1.1.2 in c:\\users\\jordy\\anaconda3\\lib\\site-packages (from aiohttp<4.0.0,>=3.8.3->langchain) (1.2.0)\n",
      "Requirement already satisfied: attrs>=17.3.0 in c:\\users\\jordy\\anaconda3\\lib\\site-packages (from aiohttp<4.0.0,>=3.8.3->langchain) (23.1.0)\n",
      "Requirement already satisfied: frozenlist>=1.1.1 in c:\\users\\jordy\\anaconda3\\lib\\site-packages (from aiohttp<4.0.0,>=3.8.3->langchain) (1.4.0)\n",
      "Requirement already satisfied: multidict<7.0,>=4.5 in c:\\users\\jordy\\anaconda3\\lib\\site-packages (from aiohttp<4.0.0,>=3.8.3->langchain) (6.0.4)\n",
      "Requirement already satisfied: yarl<2.0,>=1.0 in c:\\users\\jordy\\anaconda3\\lib\\site-packages (from aiohttp<4.0.0,>=3.8.3->langchain) (1.9.3)\n",
      "Requirement already satisfied: jsonpatch<2.0,>=1.33 in c:\\users\\jordy\\anaconda3\\lib\\site-packages (from langchain-core<0.4.0,>=0.3.21->langchain) (1.33)\n",
      "Requirement already satisfied: packaging<25,>=23.2 in c:\\users\\jordy\\anaconda3\\lib\\site-packages (from langchain-core<0.4.0,>=0.3.21->langchain) (23.2)\n",
      "Requirement already satisfied: typing-extensions>=4.7 in c:\\users\\jordy\\anaconda3\\lib\\site-packages (from langchain-core<0.4.0,>=0.3.21->langchain) (4.11.0)\n",
      "Requirement already satisfied: httpx<1,>=0.23.0 in c:\\users\\jordy\\anaconda3\\lib\\site-packages (from langsmith<0.2.0,>=0.1.17->langchain) (0.27.0)\n",
      "Requirement already satisfied: orjson<4.0.0,>=3.9.14 in c:\\users\\jordy\\anaconda3\\lib\\site-packages (from langsmith<0.2.0,>=0.1.17->langchain) (3.10.11)\n",
      "Requirement already satisfied: requests-toolbelt<2.0.0,>=1.0.0 in c:\\users\\jordy\\anaconda3\\lib\\site-packages (from langsmith<0.2.0,>=0.1.17->langchain) (1.0.0)\n",
      "Requirement already satisfied: annotated-types>=0.6.0 in c:\\users\\jordy\\anaconda3\\lib\\site-packages (from pydantic<3.0.0,>=2.7.4->langchain) (0.6.0)\n",
      "Requirement already satisfied: pydantic-core==2.23.4 in c:\\users\\jordy\\anaconda3\\lib\\site-packages (from pydantic<3.0.0,>=2.7.4->langchain) (2.23.4)\n",
      "Requirement already satisfied: charset-normalizer<4,>=2 in c:\\users\\jordy\\anaconda3\\lib\\site-packages (from requests<3,>=2->langchain) (2.0.4)\n",
      "Requirement already satisfied: idna<4,>=2.5 in c:\\users\\jordy\\anaconda3\\lib\\site-packages (from requests<3,>=2->langchain) (3.7)\n",
      "Requirement already satisfied: urllib3<3,>=1.21.1 in c:\\users\\jordy\\anaconda3\\lib\\site-packages (from requests<3,>=2->langchain) (2.2.2)\n",
      "Requirement already satisfied: certifi>=2017.4.17 in c:\\users\\jordy\\anaconda3\\lib\\site-packages (from requests<3,>=2->langchain) (2024.8.30)\n",
      "Requirement already satisfied: greenlet!=0.4.17 in c:\\users\\jordy\\anaconda3\\lib\\site-packages (from SQLAlchemy<3,>=1.4->langchain) (3.0.1)\n",
      "Requirement already satisfied: anyio in c:\\users\\jordy\\anaconda3\\lib\\site-packages (from httpx<1,>=0.23.0->langsmith<0.2.0,>=0.1.17->langchain) (4.2.0)\n",
      "Requirement already satisfied: httpcore==1.* in c:\\users\\jordy\\anaconda3\\lib\\site-packages (from httpx<1,>=0.23.0->langsmith<0.2.0,>=0.1.17->langchain) (1.0.2)\n",
      "Requirement already satisfied: sniffio in c:\\users\\jordy\\anaconda3\\lib\\site-packages (from httpx<1,>=0.23.0->langsmith<0.2.0,>=0.1.17->langchain) (1.3.0)\n",
      "Requirement already satisfied: h11<0.15,>=0.13 in c:\\users\\jordy\\anaconda3\\lib\\site-packages (from httpcore==1.*->httpx<1,>=0.23.0->langsmith<0.2.0,>=0.1.17->langchain) (0.14.0)\n",
      "Requirement already satisfied: jsonpointer>=1.9 in c:\\users\\jordy\\anaconda3\\lib\\site-packages (from jsonpatch<2.0,>=1.33->langchain-core<0.4.0,>=0.3.21->langchain) (2.1)\n",
      "Note: you may need to restart the kernel to use updated packages.\n",
      "Note: you may need to restart the kernel to use updated packages.\n",
      "Note: you may need to restart the kernel to use updated packages.\n"
     ]
    }
   ],
   "source": [
    "%pip install langchain\n",
    "%pip install -qU langchain-google-vertexai\n",
    "%pip install -qU langchain-openai"
   ]
  },
  {
   "cell_type": "code",
   "execution_count": 12,
   "id": "db6b9364-73c4-46bf-85dc-c31cfd38c413",
   "metadata": {},
   "outputs": [],
   "source": [
    "import os\n",
    "\n",
    "def read_file_from_path(path):\n",
    "    with open(os.path.expanduser(path), 'r', encoding='utf-8') as file:\n",
    "        return file.read().strip()"
   ]
  },
  {
   "cell_type": "code",
   "execution_count": 13,
   "id": "ed622792-4344-4dc1-9158-716715a98304",
   "metadata": {},
   "outputs": [],
   "source": [
    "import os\n",
    "\n",
    "os.environ[\"OPENAI_API_KEY\"]=read_file_from_path('~/api_keys/OPENAI_API_KEY')\n",
    "os.environ[\"GOOGLE_API_KEY\"]=read_file_from_path('~/api_keys/GOOGLE_API_KEY')"
   ]
  },
  {
   "cell_type": "code",
   "execution_count": 14,
   "id": "e99ec9fb-ffea-4190-92bd-7dfce7896990",
   "metadata": {},
   "outputs": [],
   "source": [
    "from operator import itemgetter\n",
    "\n",
    "from langchain_core.prompts import ChatPromptTemplate\n",
    "from langchain_core.runnables import RunnableLambda, RunnablePassthrough, RunnableParallel\n",
    "from langchain_google_genai import ChatGoogleGenerativeAI\n",
    "from langchain_core.output_parsers import StrOutputParser\n",
    "\n",
    "from pydantic import BaseModel, Field\n",
    "\n",
    "from typing import List"
   ]
  },
  {
   "cell_type": "markdown",
   "id": "1e2cd535-e18e-43bb-bca8-cc8cfe6df96d",
   "metadata": {},
   "source": [
    "# Critique Chain\n",
    "\n",
    "User enters a question, LLM gets a response, and another LLM critiques the response"
   ]
  },
  {
   "cell_type": "markdown",
   "id": "b2afeb87-c653-417c-9378-c306d63bbae5",
   "metadata": {},
   "source": [
    "## Public"
   ]
  },
  {
   "cell_type": "code",
   "execution_count": 19,
   "id": "d2dc5146-070c-488f-ab5a-b82b777c151b",
   "metadata": {},
   "outputs": [],
   "source": [
    "base_prompt = ChatPromptTemplate.from_template(\n",
    "    'You are a researcher trying to answer the question \"{question}\". Make sure that you include specific '\n",
    "    'examples or details backing up any generalizations')\n",
    "base_model = ChatGoogleGenerativeAI(model=\"gemini-1.5-flash\")\n",
    "\n",
    "critic_prompt = ChatPromptTemplate.from_template(\"A user asked <Question>{question}</Question> and received the response <Response>{response}</Response> from an LLM. Critique the quality of this response.\")\n",
    "critic_model = ChatGoogleGenerativeAI(model=\"gemini-1.5-flash\")\n",
    "\n",
    "critique_chain = (\n",
    "    RunnableParallel(question=RunnablePassthrough(), response=(base_prompt | base_model | StrOutputParser() | RunnableLambda(lambda s: s.strip())))\n",
    "    | RunnablePassthrough.assign(critic_prompt=critic_prompt)\n",
    "    | RunnablePassthrough.assign(critique=(RunnableLambda(itemgetter('critic_prompt')) | critic_model | StrOutputParser()))\n",
    ")"
   ]
  },
  {
   "cell_type": "markdown",
   "id": "93387833-57d7-401c-bc29-d7e9be5598de",
   "metadata": {},
   "source": [
    "## Testing"
   ]
  },
  {
   "cell_type": "code",
   "execution_count": 136,
   "id": "0de3bab9-b557-48f1-931e-2fd122b3c7a6",
   "metadata": {},
   "outputs": [],
   "source": [
    "def output(d):\n",
    "    divider = f\"\\n\\n---------------------------------------------------------\\n\\n\"\n",
    "    format = lambda header, text: f\"{header}\\n\\n{text}\"\n",
    "    return divider.join([format('USER', d['question']), format('LLM', d['response']), format('CRITIC', d['critique'])])"
   ]
  },
  {
   "cell_type": "code",
   "execution_count": 138,
   "id": "361d9472-4440-425b-826b-c97ad7370ac6",
   "metadata": {},
   "outputs": [
    {
     "name": "stdin",
     "output_type": "stream",
     "text": [
      " did thomas jefferson support the united irishmen?\n"
     ]
    },
    {
     "name": "stdout",
     "output_type": "stream",
     "text": [
      "USER\n",
      "\n",
      "did thomas jefferson support the united irishmen?\n",
      "\n",
      "---------------------------------------------------------\n",
      "\n",
      "LLM\n",
      "\n",
      "The question of whether Thomas Jefferson supported the United Irishmen is complex and doesn't lend itself to a simple yes or no answer. While he expressed sympathy for their cause and engaged in actions that could be interpreted as tacit support, direct evidence of overt, active endorsement is lacking.  A nuanced analysis requires examining his actions and writings within the context of his political philosophy and the geopolitical realities of the time.\n",
      "\n",
      "**Arguments for Jeffersonian Sympathy:**\n",
      "\n",
      "* **Shared Republican Ideals:**  Jefferson was a staunch republican, deeply committed to principles of self-government, liberty, and resistance to tyranny.  The United Irishmen, seeking to overthrow British rule in Ireland and establish an independent republic, shared these ideals.  His writings frequently championed the rights of oppressed peoples, aligning with the United Irishmen's grievances against British oppression.  This ideological affinity suggests a degree of sympathy, even if not necessarily active support.\n",
      "\n",
      "* **Diplomatic Maneuvers:**  As Secretary of State and later President, Jefferson engaged in diplomatic actions that indirectly benefited the United Irishmen.  While he couldn't openly support a rebellion against a major European power (Britain) without jeopardizing US neutrality and interests, certain policies could be interpreted as beneficial to the Irish cause.  For example, maintaining a strong, anti-British stance in foreign policy created a climate where Irish rebellion might find more tolerance internationally. This was not direct support, but a form of indirect aid by undermining the British.\n",
      "\n",
      "* **Correspondence and Associations:**  While direct evidence of Jefferson actively supporting the United Irishmen's rebellion is limited, his correspondence might reveal indirect support.  Historians would need to carefully examine his letters for any allusions to the movement or expressions of solidarity with its members.  However, given the secrecy surrounding the United Irishmen's activities, overt support in written correspondence would have been risky.  His association with individuals known to have supported the United Irishmen, while not necessarily proof of his own support, needs to be considered in the context of his broader network.\n",
      "\n",
      "\n",
      "**Arguments against Direct Support:**\n",
      "\n",
      "* **Maintaining Neutrality:**  As a key figure in the US government, Jefferson was acutely aware of the importance of maintaining US neutrality in European conflicts.  Open support for the United Irishmen would have risked war with Britain, something he would likely have sought to avoid.  His actions were always constrained by the need to preserve American interests and independence.\n",
      "\n",
      "* **Lack of Direct Evidence:**  Despite extensive scholarship on Jefferson, there's a lack of definitive proof that he provided direct financial or logistical support to the United Irishmen.  No documents conclusively demonstrate direct communication or planning with rebellion leaders.\n",
      "\n",
      "* **Pragmatic Considerations:**  Jefferson, while ideologically aligned with republican ideals, was also a pragmatic politician.  Openly supporting the United Irishmen might have been counterproductive to his broader political goals.\n",
      "\n",
      "**Conclusion:**\n",
      "\n",
      "It's more accurate to say that Thomas Jefferson likely held sympathies for the United Irishmen's republican goals, based on his own political philosophy and their shared ideals.  However, there is insufficient evidence to conclude he provided them with direct and active support. His actions were shaped by the need to maintain US neutrality and his own political ambitions. Further research, possibly uncovering new archival materials, might offer a more definitive answer, but currently, the evidence suggests a complex relationship characterized by shared ideals but constrained by political realities.\n",
      "\n",
      "---------------------------------------------------------\n",
      "\n",
      "CRITIC\n",
      "\n",
      "The response is a good, balanced, and nuanced answer to a complex historical question.  It avoids a simplistic \"yes\" or \"no\" and correctly identifies the inherent difficulty in definitively answering the question given the available evidence. Here's a breakdown of its strengths and weaknesses:\n",
      "\n",
      "**Strengths:**\n",
      "\n",
      "* **Acknowledges Complexity:**  The response immediately establishes the nuanced nature of the question, setting the right tone for a careful examination.\n",
      "* **Structured Argumentation:** The use of \"Arguments for...\" and \"Arguments against...\" sections provides a clear and organized presentation of the evidence. This makes it easy for the reader to follow the reasoning.\n",
      "* **Contextualization:** The response effectively places Jefferson's potential actions within the context of his political philosophy, the geopolitical situation, and the risks involved in supporting a rebellion against a major power.  This is crucial for understanding the historical context.\n",
      "* **Balanced Perspective:**  It presents both sides of the argument fairly, highlighting evidence that supports and contradicts the idea of Jefferson's support. It doesn't shy away from the lack of direct evidence.\n",
      "* **Call for Further Research:** The conclusion appropriately acknowledges the possibility of future discoveries that might alter the current understanding.\n",
      "* **Appropriate Language:** The language is precise, academic, and avoids overly assertive statements where evidence is lacking.\n",
      "\n",
      "\n",
      "**Weaknesses:**\n",
      "\n",
      "* **Could be More Specific:** While the response mentions \"diplomatic maneuvers\" and \"correspondence,\" it could benefit from providing more specific examples.  Mentioning particular diplomatic actions or letters (even without full transcriptions) would strengthen the argument.  This would require more specific historical knowledge than a general LLM might possess.\n",
      "* **Overreliance on Generalities:** Some points, such as \"maintaining a strong, anti-British stance,\" are somewhat general.  More concrete examples of Jefferson's anti-British policies would be beneficial.\n",
      "* **Limited Engagement with Historiography:**  A truly strong response would briefly mention the existing scholarly debate on this topic, citing key historians or works that have addressed this issue.  This would further demonstrate the nuanced nature of the historical inquiry.\n",
      "* **\"Indirect Aid\" is Weak:** The claim that maintaining an anti-British stance constitutes \"indirect aid\" is a bit weak.  While it might have created a more favorable international climate, it's a stretch to call this active support.  A more careful phrasing would strengthen the argument.\n",
      "\n",
      "\n",
      "**Overall:**\n",
      "\n",
      "The response is well-written and demonstrates a good understanding of the historical context and the challenges of interpreting historical evidence.  However, it could be improved by adding specific examples, engaging more directly with the existing historical scholarship, and refining some of its weaker claims.  The weaknesses are mostly due to the inherent limitations of LLMs in accessing and synthesizing vast amounts of specific historical detail.  A human historian would likely produce a more deeply researched and nuanced answer.\n",
      "\n"
     ]
    }
   ],
   "source": [
    "# critique_chain_io = critique_chain | RunnableLambda(output)\n",
    "# question = input()\n",
    "# result = critique_chain_io.invoke(question)\n",
    "# print(result)"
   ]
  },
  {
   "cell_type": "markdown",
   "id": "3495098c-a8c2-46fe-9de3-0dd5c2279064",
   "metadata": {},
   "source": [
    "# Argument Claims Chain\n",
    "\n",
    "Takes a text block representing some kind of argument and scrape it for a list of its claims"
   ]
  },
  {
   "cell_type": "markdown",
   "id": "44c5b31e-b8f7-4fcc-a7c9-03819027fc94",
   "metadata": {
    "codeCellConfig": {
     "autoClosingBrackets": true
    }
   },
   "source": [
    "## Experiments"
   ]
  },
  {
   "cell_type": "code",
   "execution_count": 129,
   "id": "4d35465a-1e1c-4bd5-ab7b-31a8172a6fd3",
   "metadata": {},
   "outputs": [],
   "source": [
    "argument_schema = {\n",
    "    \"title\": \"argument_breakdown\",\n",
    "    \"description\": \"A breakdown of the signifiant claims made in a line of reasoning in an academic argument\",\n",
    "    \"type\": \"object\",\n",
    "    \"properties\": {\n",
    "        \"broad_claims\": {\n",
    "            \"description\": (\n",
    "                \"A list of claims that are vital to the main argument but are too broad to verify or disprove based on the evidence in the argument.\"\n",
    "                \"For the argument to be stronger, they would need to be broken down into more specific illustrative examples.\"\n",
    "            ),\n",
    "            \"type\": \"array\",\n",
    "            \"items\": {\n",
    "                \"type\": \"string\",\n",
    "                \"examples\": [\n",
    "                    \"Nationalist fervor steadily rose in Europe in the years leading up to 1914\",\n",
    "                    \"The publication of Thomas Paine's Common Sense caused a major shift in colonists' thinking about the roots of political sovereignty\",\n",
    "                    \"Most major battles in the 30 Years War took place in territories with Catholic leaders\",\n",
    "                    \"The most important diplomatic agreements of the Cold War were reached in direct summits between the US President and the Soviet Primier\"\n",
    "                ],\n",
    "            }\n",
    "        }\n",
    "    },\n",
    "    \"required\": [\"broad_claims\"],\n",
    "}"
   ]
  },
  {
   "cell_type": "code",
   "execution_count": 123,
   "id": "25c2cc1d-212a-4c95-a147-86f94218b88f",
   "metadata": {},
   "outputs": [],
   "source": [
    "argument_prompt = ChatPromptTemplate.from_messages([\n",
    "    (\"system\", \"You are an academic journal editor trying to analyze the following argument from a journal submission.\"\n",
    "               \"You are not trying to evaluate its merits; just to catalog and categorize its claims for someone else to evaluate.\"),\n",
    "    (\"human\", \"{input}\")\n",
    "])\n",
    "argument_model = ChatGoogleGenerativeAI(model=\"gemini-1.5-flash\").with_structured_output(argument_schema)\n",
    "\n",
    "argument_chain = argument_prompt | argument_model"
   ]
  },
  {
   "cell_type": "code",
   "execution_count": 127,
   "id": "311ade83-ecbf-4728-b78e-208edf832b07",
   "metadata": {
    "scrolled": true
   },
   "outputs": [
    {
     "name": "stderr",
     "output_type": "stream",
     "text": [
      "Key 'parameters' is not supported in schema, ignoring\n"
     ]
    },
    {
     "data": {
      "text/plain": [
       "[{'args': {'broad_claims': [\"Jefferson's republican ideals aligned with those of the United Irishmen, suggesting sympathy.\",\n",
       "    \"Jefferson's diplomatic actions indirectly benefited the United Irishmen by undermining British power.\",\n",
       "    \"Jefferson's correspondence and associations might reveal indirect support for the United Irishmen, though direct evidence is lacking.\"]},\n",
       "  'type': 'break_down_argument'}]"
      ]
     },
     "execution_count": 127,
     "metadata": {},
     "output_type": "execute_result"
    }
   ],
   "source": [
    "argument_chain.invoke(\"\"\"The question of whether Thomas Jefferson supported the United Irishmen is complex and doesn't lend itself to a simple yes or no answer. While he expressed sympathy for their cause and engaged in actions that could be interpreted as tacit support, direct evidence of overt, active endorsement is lacking.  A nuanced analysis requires examining his actions and writings within the context of his political philosophy and the geopolitical realities of the time.\n",
    "\n",
    "**Arguments for Jeffersonian Sympathy:**\n",
    "\n",
    "* **Shared Republican Ideals:**  Jefferson was a staunch republican, deeply committed to principles of self-government, liberty, and resistance to tyranny.  The United Irishmen, seeking to overthrow British rule in Ireland and establish an independent republic, shared these ideals.  His writings frequently championed the rights of oppressed peoples, aligning with the United Irishmen's grievances against British oppression.  This ideological affinity suggests a degree of sympathy, even if not necessarily active support.\n",
    "\n",
    "* **Diplomatic Maneuvers:**  As Secretary of State and later President, Jefferson engaged in diplomatic actions that indirectly benefited the United Irishmen.  While he couldn't openly support a rebellion against a major European power (Britain) without jeopardizing US neutrality and interests, certain policies could be interpreted as beneficial to the Irish cause.  For example, maintaining a strong, anti-British stance in foreign policy created a climate where Irish rebellion might find more tolerance internationally. This was not direct support, but a form of indirect aid by undermining the British.\n",
    "\n",
    "* **Correspondence and Associations:**  While direct evidence of Jefferson actively supporting the United Irishmen's rebellion is limited, his correspondence might reveal indirect support.  Historians would need to carefully examine his letters for any allusions to the movement or expressions of solidarity with its members.  However, given the secrecy surrounding the United Irishmen's activities, overt support in written correspondence would have been risky.  His association with individuals known to have supported the United Irishmen, while not necessarily proof of his own support, needs to be considered in the context of his broader network.\"\"\")"
   ]
  },
  {
   "cell_type": "markdown",
   "id": "3fab4a98-d945-4156-888e-040116602ea6",
   "metadata": {},
   "source": [
    "# Graveyard"
   ]
  },
  {
   "cell_type": "code",
   "execution_count": 113,
   "id": "878a16af-41c7-4865-9490-f3c2cbb1126a",
   "metadata": {},
   "outputs": [
    {
     "name": "stderr",
     "output_type": "stream",
     "text": [
      "Key 'parameters' is not supported in schema, ignoring\n"
     ]
    },
    {
     "data": {
      "text/plain": [
       "[{'args': {'punchline': 'Why are cats such bad dancers? Because they have two left feet!',\n",
       "   'setup': 'Why are cats such bad dancers?'},\n",
       "  'type': 'joke'}]"
      ]
     },
     "execution_count": 113,
     "metadata": {},
     "output_type": "execute_result"
    }
   ],
   "source": [
    "json_schema = {\n",
    "    \"title\": \"joke\",\n",
    "    \"description\": \"Joke to tell user.\",\n",
    "    \"type\": \"object\",\n",
    "    \"properties\": {\n",
    "        \"setup\": {\n",
    "            \"type\": \"string\",\n",
    "            \"description\": \"The setup of the joke\",\n",
    "        },\n",
    "        \"punchline\": {\n",
    "            \"type\": \"string\",\n",
    "            \"description\": \"The punchline to the joke\",\n",
    "        },\n",
    "        \"rating\": {\n",
    "            \"type\": \"integer\",\n",
    "            \"description\": \"How funny the joke is, from 1 to 10\",\n",
    "            \"default\": None,\n",
    "        },\n",
    "    },\n",
    "    \"required\": [\"setup\", \"punchline\"],\n",
    "}\n",
    "\n",
    "llm = ChatGoogleGenerativeAI(model=\"gemini-1.5-flash\")\n",
    "structured_llm = llm.with_structured_output(json_schema)\n",
    "\n",
    "structured_llm.invoke(\"Tell me a joke about cats\")"
   ]
  },
  {
   "cell_type": "code",
   "execution_count": 95,
   "id": "4bfb67be-3686-496c-b1c9-fe2c6b6fe60a",
   "metadata": {},
   "outputs": [],
   "source": [
    "# Ensure your VertexAI credentials are configured\n",
    "\n",
    "from langchain_openai import ChatOpenAI\n",
    "\n",
    "llm = ChatOpenAI(model=\"gpt-4o-mini\")\n",
    "\n",
    "argument_prompt = ChatPromptTemplate.from_messages([\n",
    "    (\"system\", \"You are an academic journal editor trying to analyze the following argument from a journal submission.\"\n",
    "               \"You are not trying to evaluate its merits; just to catalog and categorize its claims for someone else to evaluate.\"),\n",
    "    (\"human\", \"{input}\")\n",
    "])\n",
    "argument_model = llm.with_structured_output(argument_schema)\n",
    "\n",
    "argument_chain = argument_prompt | argument_model"
   ]
  },
  {
   "cell_type": "code",
   "execution_count": null,
   "id": "22c03023-f68b-47d9-bed5-aa3b5a170aa8",
   "metadata": {
    "editable": true,
    "slideshow": {
     "slide_type": ""
    },
    "tags": []
   },
   "outputs": [],
   "source": [
    "'''\n",
    "I DON'T THINK I'M LOOKING FOR QUITE THE RIGHT THING IN THIS SCHEMA, TRY TO REFINE IT. HERE ARE SOME POSSIBLE FIELDS\n",
    "(IN ADDITION TO THE HALF FILLED OUT ONES BELOW):\n",
    "\n",
    "-claims without evidence so we can search for widely cited evidence of that claim\n",
    "-overly opinionated sections\n",
    "'''\n",
    "\n",
    "argument_schema = {\n",
    "    \"description\": \"A breakdown of the signifiant claims made in a line of reasoning in a historical argument\",\n",
    "    \"type\": \"object\",\n",
    "    \"properties\": {\n",
    "        \"vague_claims\": {\n",
    "            \"type\": \"array\",\n",
    "            \"description\": \"A list of claims are are important to the argument but not specific enough to meaningfully verify\",\n",
    "            \"items\": {\n",
    "                \"type\": \"object\",\n",
    "                \"properties\": {\n",
    "                    \"excerpt\": {\n",
    "                        \"type\": \"string\",\n",
    "                        \"description\": \"A verbatim excerpt from the text that makes a vague claim\",\n",
    "                        \"examples\": [\n",
    "                            \"Nationalist fervor was running high throughout Europe in 1914\",\n",
    "                        ]\n",
    "                    }\n",
    "                    \"clarifications_required\": {\n",
    "                        \"type\": \"array\",\n",
    "                        \"description\": \"A list of clarifications\"\n",
    "                    }\n",
    "                }\n",
    "            }\n",
    "        }\n",
    "    }\n",
    "}"
   ]
  },
  {
   "cell_type": "code",
   "execution_count": null,
   "id": "75ce2793-fca0-4e29-99a3-2dbf8c0c69d5",
   "metadata": {},
   "outputs": [],
   "source": [
    "# class VagueClaim(TypedDict):\n",
    "#     excerpt: str\n",
    "#     clarifications_required: List[str]\n",
    "\n",
    "# class Argument(BaseModel):\n",
    "#     \"\"\"A breakdown of the signifiant claims made in a line of reasoning in a historical argument\"\"\"\n",
    "        \n",
    "#     too_vague: List[str] = Field(\n",
    "#         description=\"A list of excerpts making d\",\n",
    "#         examples=[\n",
    "#             'Marx sent Lincoln a letter of congratulations on his reelection',\n",
    "#             'Bohemia had an elective monarchy in that period',\n",
    "#             'George Washington frequently took walks on the moon',\n",
    "#             'Woodrow Wilson and Sun Yat-Sen regularly exhanged messages',\n",
    "#         ])\n",
    "    # claims: List[str] = Field(\n",
    "    #     description=\"An excerpt that represents a single verifiable factual claim, regardless of its veracity\",\n",
    "    #     examples=[\n",
    "    #         'Marx sent Lincoln a letter of congratulations on his reelection',\n",
    "    #         'Bohemia had an elective monarchy in that period',\n",
    "    #         'George Washington frequently took walks on the moon',\n",
    "    #         'Woodrow Wilson and Sun Yat-Sen regularly exhanged messages',\n",
    "    #     ])\n",
    "    \n",
    "    \n",
    "    # generalizations: List[str] = Field(\n",
    "    #     description=\"An excerpt that represents a broad generalization that advances the argument but lack concrete, verifiable details\",\n",
    "    #     examples=[\n",
    "    #         \"\n",
    "    #     ]\n",
    "    # )"
   ]
  }
 ],
 "metadata": {
  "kernelspec": {
   "display_name": "Python 3 (ipykernel)",
   "language": "python",
   "name": "python3"
  },
  "language_info": {
   "codemirror_mode": {
    "name": "ipython",
    "version": 3
   },
   "file_extension": ".py",
   "mimetype": "text/x-python",
   "name": "python",
   "nbconvert_exporter": "python",
   "pygments_lexer": "ipython3",
   "version": "3.12.4"
  }
 },
 "nbformat": 4,
 "nbformat_minor": 5
}
