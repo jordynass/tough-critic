{
 "cells": [
  {
   "cell_type": "code",
   "execution_count": null,
   "id": "6f8ee1ac-e05f-42f8-b724-6aa2cb415edf",
   "metadata": {
    "editable": true,
    "slideshow": {
     "slide_type": ""
    },
    "tags": []
   },
   "outputs": [],
   "source": [
    "%pip install langchain\n",
    "%pip install -qU langchain-google-vertexai\n",
    "%pip install -qU langchain-openai"
   ]
  },
  {
   "cell_type": "code",
   "execution_count": 7,
   "id": "e99ec9fb-ffea-4190-92bd-7dfce7896990",
   "metadata": {},
   "outputs": [],
   "source": [
    "from operator import itemgetter\n",
    "\n",
    "from langchain_core.prompts import ChatPromptTemplate\n",
    "from langchain_core.runnables import RunnableLambda, RunnablePassthrough, RunnableParallel\n",
    "from langchain_google_genai import ChatGoogleGenerativeAI\n",
    "from langchain_core.output_parsers import StrOutputParser\n",
    "from langchain_core.messages import AIMessage, HumanMessage, ToolMessage\n",
    "\n",
    "from pydantic import BaseModel, Field\n",
    "\n",
    "from typing import List\n",
    "\n",
    "import json"
   ]
  },
  {
   "cell_type": "code",
   "execution_count": 8,
   "id": "db6b9364-73c4-46bf-85dc-c31cfd38c413",
   "metadata": {},
   "outputs": [],
   "source": [
    "import os\n",
    "\n",
    "def read_file_from_path(path):\n",
    "    with open(os.path.expanduser(path), 'r', encoding='utf-8') as file:\n",
    "        return file.read().strip()"
   ]
  },
  {
   "cell_type": "code",
   "execution_count": 9,
   "id": "ed622792-4344-4dc1-9158-716715a98304",
   "metadata": {},
   "outputs": [],
   "source": [
    "import os\n",
    "\n",
    "os.environ[\"OPENAI_API_KEY\"]=read_file_from_path('~/api_keys/OPENAI_API_KEY')\n",
    "os.environ[\"GOOGLE_API_KEY\"]=read_file_from_path('~/api_keys/GOOGLE_API_KEY')"
   ]
  },
  {
   "cell_type": "markdown",
   "id": "1e2cd535-e18e-43bb-bca8-cc8cfe6df96d",
   "metadata": {},
   "source": [
    "# Critique Chain\n",
    "\n",
    "User enters a question, LLM gets a response, and another LLM critiques the response"
   ]
  },
  {
   "cell_type": "markdown",
   "id": "b2afeb87-c653-417c-9378-c306d63bbae5",
   "metadata": {},
   "source": [
    "## Public"
   ]
  },
  {
   "cell_type": "code",
   "execution_count": 15,
   "id": "d2dc5146-070c-488f-ab5a-b82b777c151b",
   "metadata": {},
   "outputs": [],
   "source": [
    "base_prompt = ChatPromptTemplate.from_template(\n",
    "    'You are a researcher trying to answer the question \"{question}\". Make sure that you include specific '\n",
    "    'examples or details backing up any generalizations')\n",
    "base_model = ChatGoogleGenerativeAI(model=\"gemini-1.5-flash\")\n",
    "\n",
    "critic_prompt = ChatPromptTemplate.from_template(\"A user asked <Question>{question}</Question> and received the response <Response>{response}</Response> from an LLM. Critique the quality of this response.\")\n",
    "critic_model = ChatGoogleGenerativeAI(model=\"gemini-1.5-flash\")\n",
    "\n",
    "critique_chain = (\n",
    "    RunnableParallel(question=RunnablePassthrough(), response=(base_prompt | base_model | StrOutputParser() | RunnableLambda(lambda s: s.strip())))\n",
    "    | RunnablePassthrough.assign(critic_prompt=critic_prompt)\n",
    "    | RunnablePassthrough.assign(critique=(RunnableLambda(itemgetter('critic_prompt')) | critic_model | StrOutputParser()))\n",
    ")"
   ]
  },
  {
   "cell_type": "markdown",
   "id": "93387833-57d7-401c-bc29-d7e9be5598de",
   "metadata": {},
   "source": [
    "## Testing"
   ]
  },
  {
   "cell_type": "code",
   "execution_count": 18,
   "id": "0de3bab9-b557-48f1-931e-2fd122b3c7a6",
   "metadata": {},
   "outputs": [],
   "source": [
    "def output(d):\n",
    "    divider = f\"\\n\\n---------------------------------------------------------\\n\\n\"\n",
    "    format = lambda header, text: f\"{header}\\n\\n{text}\"\n",
    "    return divider.join([format('USER', d['question']), format('LLM', d['response']), format('CRITIC', d['critique'])])"
   ]
  },
  {
   "cell_type": "code",
   "execution_count": 138,
   "id": "361d9472-4440-425b-826b-c97ad7370ac6",
   "metadata": {},
   "outputs": [
    {
     "name": "stdin",
     "output_type": "stream",
     "text": [
      " did thomas jefferson support the united irishmen?\n"
     ]
    },
    {
     "name": "stdout",
     "output_type": "stream",
     "text": [
      "USER\n",
      "\n",
      "did thomas jefferson support the united irishmen?\n",
      "\n",
      "---------------------------------------------------------\n",
      "\n",
      "LLM\n",
      "\n",
      "The question of whether Thomas Jefferson supported the United Irishmen is complex and doesn't lend itself to a simple yes or no answer. While he expressed sympathy for their cause and engaged in actions that could be interpreted as tacit support, direct evidence of overt, active endorsement is lacking.  A nuanced analysis requires examining his actions and writings within the context of his political philosophy and the geopolitical realities of the time.\n",
      "\n",
      "**Arguments for Jeffersonian Sympathy:**\n",
      "\n",
      "* **Shared Republican Ideals:**  Jefferson was a staunch republican, deeply committed to principles of self-government, liberty, and resistance to tyranny.  The United Irishmen, seeking to overthrow British rule in Ireland and establish an independent republic, shared these ideals.  His writings frequently championed the rights of oppressed peoples, aligning with the United Irishmen's grievances against British oppression.  This ideological affinity suggests a degree of sympathy, even if not necessarily active support.\n",
      "\n",
      "* **Diplomatic Maneuvers:**  As Secretary of State and later President, Jefferson engaged in diplomatic actions that indirectly benefited the United Irishmen.  While he couldn't openly support a rebellion against a major European power (Britain) without jeopardizing US neutrality and interests, certain policies could be interpreted as beneficial to the Irish cause.  For example, maintaining a strong, anti-British stance in foreign policy created a climate where Irish rebellion might find more tolerance internationally. This was not direct support, but a form of indirect aid by undermining the British.\n",
      "\n",
      "* **Correspondence and Associations:**  While direct evidence of Jefferson actively supporting the United Irishmen's rebellion is limited, his correspondence might reveal indirect support.  Historians would need to carefully examine his letters for any allusions to the movement or expressions of solidarity with its members.  However, given the secrecy surrounding the United Irishmen's activities, overt support in written correspondence would have been risky.  His association with individuals known to have supported the United Irishmen, while not necessarily proof of his own support, needs to be considered in the context of his broader network.\n",
      "\n",
      "\n",
      "**Arguments against Direct Support:**\n",
      "\n",
      "* **Maintaining Neutrality:**  As a key figure in the US government, Jefferson was acutely aware of the importance of maintaining US neutrality in European conflicts.  Open support for the United Irishmen would have risked war with Britain, something he would likely have sought to avoid.  His actions were always constrained by the need to preserve American interests and independence.\n",
      "\n",
      "* **Lack of Direct Evidence:**  Despite extensive scholarship on Jefferson, there's a lack of definitive proof that he provided direct financial or logistical support to the United Irishmen.  No documents conclusively demonstrate direct communication or planning with rebellion leaders.\n",
      "\n",
      "* **Pragmatic Considerations:**  Jefferson, while ideologically aligned with republican ideals, was also a pragmatic politician.  Openly supporting the United Irishmen might have been counterproductive to his broader political goals.\n",
      "\n",
      "**Conclusion:**\n",
      "\n",
      "It's more accurate to say that Thomas Jefferson likely held sympathies for the United Irishmen's republican goals, based on his own political philosophy and their shared ideals.  However, there is insufficient evidence to conclude he provided them with direct and active support. His actions were shaped by the need to maintain US neutrality and his own political ambitions. Further research, possibly uncovering new archival materials, might offer a more definitive answer, but currently, the evidence suggests a complex relationship characterized by shared ideals but constrained by political realities.\n",
      "\n",
      "---------------------------------------------------------\n",
      "\n",
      "CRITIC\n",
      "\n",
      "The response is a good, balanced, and nuanced answer to a complex historical question.  It avoids a simplistic \"yes\" or \"no\" and correctly identifies the inherent difficulty in definitively answering the question given the available evidence. Here's a breakdown of its strengths and weaknesses:\n",
      "\n",
      "**Strengths:**\n",
      "\n",
      "* **Acknowledges Complexity:**  The response immediately establishes the nuanced nature of the question, setting the right tone for a careful examination.\n",
      "* **Structured Argumentation:** The use of \"Arguments for...\" and \"Arguments against...\" sections provides a clear and organized presentation of the evidence. This makes it easy for the reader to follow the reasoning.\n",
      "* **Contextualization:** The response effectively places Jefferson's potential actions within the context of his political philosophy, the geopolitical situation, and the risks involved in supporting a rebellion against a major power.  This is crucial for understanding the historical context.\n",
      "* **Balanced Perspective:**  It presents both sides of the argument fairly, highlighting evidence that supports and contradicts the idea of Jefferson's support. It doesn't shy away from the lack of direct evidence.\n",
      "* **Call for Further Research:** The conclusion appropriately acknowledges the possibility of future discoveries that might alter the current understanding.\n",
      "* **Appropriate Language:** The language is precise, academic, and avoids overly assertive statements where evidence is lacking.\n",
      "\n",
      "\n",
      "**Weaknesses:**\n",
      "\n",
      "* **Could be More Specific:** While the response mentions \"diplomatic maneuvers\" and \"correspondence,\" it could benefit from providing more specific examples.  Mentioning particular diplomatic actions or letters (even without full transcriptions) would strengthen the argument.  This would require more specific historical knowledge than a general LLM might possess.\n",
      "* **Overreliance on Generalities:** Some points, such as \"maintaining a strong, anti-British stance,\" are somewhat general.  More concrete examples of Jefferson's anti-British policies would be beneficial.\n",
      "* **Limited Engagement with Historiography:**  A truly strong response would briefly mention the existing scholarly debate on this topic, citing key historians or works that have addressed this issue.  This would further demonstrate the nuanced nature of the historical inquiry.\n",
      "* **\"Indirect Aid\" is Weak:** The claim that maintaining an anti-British stance constitutes \"indirect aid\" is a bit weak.  While it might have created a more favorable international climate, it's a stretch to call this active support.  A more careful phrasing would strengthen the argument.\n",
      "\n",
      "\n",
      "**Overall:**\n",
      "\n",
      "The response is well-written and demonstrates a good understanding of the historical context and the challenges of interpreting historical evidence.  However, it could be improved by adding specific examples, engaging more directly with the existing historical scholarship, and refining some of its weaker claims.  The weaknesses are mostly due to the inherent limitations of LLMs in accessing and synthesizing vast amounts of specific historical detail.  A human historian would likely produce a more deeply researched and nuanced answer.\n",
      "\n"
     ]
    }
   ],
   "source": [
    "### Commented to allow running all cells. Uncomment to test ###\n",
    "\n",
    "# critique_chain_io = critique_chain | RunnableLambda(output)\n",
    "# question = input()\n",
    "# result = critique_chain_io.invoke(question)\n",
    "# print(result)"
   ]
  },
  {
   "cell_type": "markdown",
   "id": "3495098c-a8c2-46fe-9de3-0dd5c2279064",
   "metadata": {},
   "source": [
    "# Broad Claims\n",
    "\n",
    "Takes a text block representing some kind of argument and finds claims that need concrete examples to stand up to criticism."
   ]
  },
  {
   "cell_type": "markdown",
   "id": "44c5b31e-b8f7-4fcc-a7c9-03819027fc94",
   "metadata": {
    "codeCellConfig": {
     "autoClosingBrackets": true
    }
   },
   "source": [
    "## Public"
   ]
  },
  {
   "cell_type": "code",
   "execution_count": 32,
   "id": "0334dbb2-4e61-4190-8897-de5578e02ec7",
   "metadata": {},
   "outputs": [],
   "source": [
    "argument_schema = {\n",
    "    \"title\": \"argument_breakdown\",\n",
    "    \"description\": \"A breakdown of the signifiant claims made in a line of reasoning in an academic argument\",\n",
    "    \"type\": \"object\",\n",
    "    \"properties\": {\n",
    "        \"broad_claims\": {\n",
    "            \"description\": (\n",
    "                \"A list of claims that are vital to the main argument but are too broad to verify or disprove based on the evidence in the argument.\"\n",
    "                \"For the argument to be stronger, they would need to be broken down into more specific illustrative examples.\"\n",
    "            ),\n",
    "            \"type\": \"array\",\n",
    "            \"items\": {\n",
    "                \"description\": \"An overly broad claim with guidance on how to make it modify to be more verifiable.\",\n",
    "                \"type\": \"object\",\n",
    "                \"properties\": {\n",
    "                    \"excerpt\": {\n",
    "                        \"descritpion\": (\n",
    "                            \"The raw text of the claim. It should be copied verbatim aside from minimal standard quotation clarifications (e.g. bracketed\"\n",
    "                            \"clarifications, ellipses in place of irrelevant content) needed for disambiguation when the quote is read out of context. They\"\n",
    "                            \"should be short: no more than one or two sentences.\"),\n",
    "                        \"type\": \"string\",\n",
    "                    },\n",
    "                    \"examples_needed\": {\n",
    "                        \"descritpion\": \"One or more aspect(s) of the claim for which concrete examples would strengthen the argument.\",\n",
    "                        \"type\": \"array\",\n",
    "                        \"items\": {\n",
    "                            \"type\": \"string\",\n",
    "                        },\n",
    "                    },\n",
    "                },\n",
    "                \"required\": [\"excerpt\", \"examples_needed\"],\n",
    "            },\n",
    "        },\n",
    "    },\n",
    "    \"required\": [\"broad_claims\"],\n",
    "}"
   ]
  },
  {
   "cell_type": "code",
   "execution_count": 34,
   "id": "25c2cc1d-212a-4c95-a147-86f94218b88f",
   "metadata": {},
   "outputs": [],
   "source": [
    "argument_prompt = ChatPromptTemplate.from_messages([\n",
    "    (\"system\", \"You are an academic journal editor trying to analyze the following argument from a journal submission.\"\n",
    "               \"Your job is only to break down the argument, not to evaluate its merits.\"),\n",
    "    (\"human\", \"{input}\")\n",
    "])\n",
    "argument_model = ChatGoogleGenerativeAI(model=\"gemini-1.5-flash\").with_structured_output(argument_schema)\n",
    "\n",
    "argument_chain = argument_prompt | argument_model"
   ]
  },
  {
   "cell_type": "markdown",
   "id": "fc73fc32-b471-47ba-9097-25dffceb92c3",
   "metadata": {},
   "source": [
    "### Testing"
   ]
  },
  {
   "cell_type": "code",
   "execution_count": 36,
   "id": "311ade83-ecbf-4728-b78e-208edf832b07",
   "metadata": {
    "scrolled": true
   },
   "outputs": [
    {
     "name": "stderr",
     "output_type": "stream",
     "text": [
      "Key 'parameters' is not supported in schema, ignoring\n"
     ]
    },
    {
     "name": "stdout",
     "output_type": "stream",
     "text": [
      "[\n",
      "  {\n",
      "    \"args\": {\n",
      "      \"broad_claims\": [\n",
      "        {\n",
      "          \"examples_needed\": [\n",
      "            \"Specific examples of Jefferson's writings that champion the rights of oppressed peoples and how they align with the United Irishmen's grievances.\",\n",
      "            \"Specific diplomatic actions taken by Jefferson that could be interpreted as indirectly benefiting the United Irishmen and a detailed explanation of how they did so.\",\n",
      "            \"Specific examples of Jefferson's correspondence or associations that might reveal indirect support for the United Irishmen, including names of individuals and details of the correspondence or associations\"\n",
      "          ],\n",
      "          \"excerpt\": \"The question of whether Thomas Jefferson supported the United Irishmen is complex and doesn't lend itself to a simple yes or no answer. While he expressed sympathy for their cause and engaged in actions that could be interpreted as tacit support, direct evidence of overt, active endorsement is lacking.  A nuanced analysis requires examining his actions and writings within the context of his political philosophy and the geopolitical realities of the time.\"\n",
      "        }\n",
      "      ]\n",
      "    },\n",
      "    \"type\": \"argument_breakdown\"\n",
      "  }\n",
      "]\n"
     ]
    }
   ],
   "source": [
    "### Commented to allow running all cells. Uncomment to test ###\n",
    "\n",
    "# argument_breakdown = argument_chain.invoke({\"input\": \"\"\"The question of whether Thomas Jefferson supported the United Irishmen is complex and doesn't lend itself to a simple yes or no answer. While he expressed sympathy for their cause and engaged in actions that could be interpreted as tacit support, direct evidence of overt, active endorsement is lacking.  A nuanced analysis requires examining his actions and writings within the context of his political philosophy and the geopolitical realities of the time.\n",
    "\n",
    "# **Arguments for Jeffersonian Sympathy:**\n",
    "\n",
    "# * **Shared Republican Ideals:**  Jefferson was a staunch republican, deeply committed to principles of self-government, liberty, and resistance to tyranny.  The United Irishmen, seeking to overthrow British rule in Ireland and establish an independent republic, shared these ideals.  His writings frequently championed the rights of oppressed peoples, aligning with the United Irishmen's grievances against British oppression.  This ideological affinity suggests a degree of sympathy, even if not necessarily active support.\n",
    "\n",
    "# * **Diplomatic Maneuvers:**  As Secretary of State and later President, Jefferson engaged in diplomatic actions that indirectly benefited the United Irishmen.  While he couldn't openly support a rebellion against a major European power (Britain) without jeopardizing US neutrality and interests, certain policies could be interpreted as beneficial to the Irish cause.  For example, maintaining a strong, anti-British stance in foreign policy created a climate where Irish rebellion might find more tolerance internationally. This was not direct support, but a form of indirect aid by undermining the British.\n",
    "\n",
    "# * **Correspondence and Associations:**  While direct evidence of Jefferson actively supporting the United Irishmen's rebellion is limited, his correspondence might reveal indirect support.  Historians would need to carefully examine his letters for any allusions to the movement or expressions of solidarity with its members.  However, given the secrecy surrounding the United Irishmen's activities, overt support in written correspondence would have been risky.  His association with individuals known to have supported the United Irishmen, while not necessarily proof of his own support, needs to be considered in the context of his broader network.\"\"\"})\n",
    "\n",
    "# print(json.dumps(argument_breakdown, indent=2))"
   ]
  },
  {
   "cell_type": "markdown",
   "id": "97fd71ba-e84a-454e-8d26-34995be3e981",
   "metadata": {},
   "source": [
    "# In Progress"
   ]
  },
  {
   "cell_type": "code",
   "execution_count": 22,
   "id": "c6183272-95c4-42f0-a326-158dc40a4f60",
   "metadata": {},
   "outputs": [],
   "source": [
    "argument_few_shot = [\n",
    "    HumanMessage(\n",
    "        (\n",
    "            \"The causes of World War I were multifaceted, involving a complex web of political, territorial, and economic factors. Some important factors included\"\n",
    "            \"mutual defense alliances between major European powers, imperialistic rivalries over colonies and resources, militarism and the arms race, nationalism\"\n",
    "            \"leading to heightened tensions. The assassination of Archduke Franz Ferdinand of Austria-Hungary acted as the immediate catalyst. These\"\n",
    "            \"factors collectively created a volatile environment that ultimately led to the outbreak of war in 1914.\",\n",
    "        ),\n",
    "        name=\"example_user\"),\n",
    "    AIMessage(\n",
    "        \"\",\n",
    "        name=\"example_assistant\",\n",
    "        tool_calls=[\n",
    "            {\n",
    "                \"name\": \"argument_breakdown\",\n",
    "                \"args\": {\n",
    "                    \"broad_claims\": [\n",
    "                        {\n",
    "                            \"excerpt\": \"Some important factors included mutual defense alliances between major European powers, imperialistic rivalries over\"\n",
    "                            \"colonies and resources, militarism and the arms race, nationalism leading to heightened tensions.\",\n",
    "                            \"examples_needed\": \"TODO\",\n",
    "                        },\n",
    "                        {\n",
    "                            \"excerpt\": \"The assassination of Archduke Franz Ferdinand of Austria-Hungary acted as the immediate catalyst.\",\n",
    "                            \"examples_needed\": \"TODO\",\n",
    "                        }\n",
    "                    ],\n",
    "                },\n",
    "                \"id\": \"1\",\n",
    "            },\n",
    "        ],\n",
    "    ),\n",
    "    # Most tool-calling models expect a ToolMessage(s) to follow an AIMessage with tool calls.\n",
    "    ToolMessage(\"\", tool_call_id=\"1\"),\n",
    "    # Some models also expect an AIMessage to follow any ToolMessages, so I may need to add an AIMessage here.\n",
    "    # TODO: Repeat\n",
    "]"
   ]
  }
 ],
 "metadata": {
  "kernelspec": {
   "display_name": "Python 3 (ipykernel)",
   "language": "python",
   "name": "python3"
  },
  "language_info": {
   "codemirror_mode": {
    "name": "ipython",
    "version": 3
   },
   "file_extension": ".py",
   "mimetype": "text/x-python",
   "name": "python",
   "nbconvert_exporter": "python",
   "pygments_lexer": "ipython3",
   "version": "3.12.4"
  }
 },
 "nbformat": 4,
 "nbformat_minor": 5
}
